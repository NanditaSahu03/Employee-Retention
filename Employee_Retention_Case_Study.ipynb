{
  "nbformat": 4,
  "nbformat_minor": 0,
  "metadata": {
    "colab": {
      "name": "Employee Retention Dataset.ipynb",
      "provenance": [],
      "collapsed_sections": [],
      "toc_visible": true
    },
    "kernelspec": {
      "name": "python3",
      "display_name": "Python 3"
    },
    "language_info": {
      "name": "python"
    }
  },
  "cells": [
    {
      "cell_type": "markdown",
      "metadata": {
        "id": "HR5ljH1OyoJ4"
      },
      "source": [
        "## Import Libraries"
      ]
    },
    {
      "cell_type": "code",
      "metadata": {
        "id": "KuqqXZquyxdx"
      },
      "source": [
        "import numpy as np\n",
        "import matplotlib.pyplot as plt\n",
        "import pandas as pd"
      ],
      "execution_count": 1,
      "outputs": []
    },
    {
      "cell_type": "markdown",
      "metadata": {
        "id": "3vD0aCroy-X1"
      },
      "source": [
        "# Load Dataset"
      ]
    },
    {
      "cell_type": "code",
      "metadata": {
        "id": "RdLLyiEkzEkV"
      },
      "source": [
        "dataset = pd.read_csv('HR_comma_sep.csv')\n",
        "X = dataset.iloc[:,[0,4,7,9]].values\n",
        "Y = dataset.iloc[:,6].values"
      ],
      "execution_count": 2,
      "outputs": []
    },
    {
      "cell_type": "markdown",
      "metadata": {
        "id": "CPeGJkce9Ukx"
      },
      "source": [
        "# Data Processing "
      ]
    },
    {
      "cell_type": "code",
      "metadata": {
        "colab": {
          "base_uri": "https://localhost:8080/"
        },
        "id": "1_m0Dp8f5eC4",
        "outputId": "903ae7e9-73d3-4f93-fd1e-0b736a3240e6"
      },
      "source": [
        "dataset.isnull().count()"
      ],
      "execution_count": 11,
      "outputs": [
        {
          "output_type": "execute_result",
          "data": {
            "text/plain": [
              "satisfaction_level       14999\n",
              "last_evaluation          14999\n",
              "number_project           14999\n",
              "average_montly_hours     14999\n",
              "time_spend_company       14999\n",
              "Work_accident            14999\n",
              "left                     14999\n",
              "promotion_last_5years    14999\n",
              "Department               14999\n",
              "salary                   14999\n",
              "dtype: int64"
            ]
          },
          "metadata": {
            "tags": []
          },
          "execution_count": 11
        }
      ]
    },
    {
      "cell_type": "code",
      "metadata": {
        "colab": {
          "base_uri": "https://localhost:8080/"
        },
        "id": "AUIbWFQh62ww",
        "outputId": "974829da-d614-44cb-e5f0-0a851f68c806"
      },
      "source": [
        "dataset.isna().count()"
      ],
      "execution_count": 8,
      "outputs": [
        {
          "output_type": "execute_result",
          "data": {
            "text/plain": [
              "satisfaction_level       14999\n",
              "last_evaluation          14999\n",
              "number_project           14999\n",
              "average_montly_hours     14999\n",
              "time_spend_company       14999\n",
              "Work_accident            14999\n",
              "left                     14999\n",
              "promotion_last_5years    14999\n",
              "Department               14999\n",
              "salary                   14999\n",
              "dtype: int64"
            ]
          },
          "metadata": {
            "tags": []
          },
          "execution_count": 8
        }
      ]
    },
    {
      "cell_type": "code",
      "metadata": {
        "colab": {
          "base_uri": "https://localhost:8080/"
        },
        "id": "vtVLmKLw7JKD",
        "outputId": "8c8a8bf2-b5cf-461b-8f40-44a9b6ce1439"
      },
      "source": [
        "dataset.count()"
      ],
      "execution_count": 12,
      "outputs": [
        {
          "output_type": "execute_result",
          "data": {
            "text/plain": [
              "satisfaction_level       14999\n",
              "last_evaluation          14999\n",
              "number_project           14999\n",
              "average_montly_hours     14999\n",
              "time_spend_company       14999\n",
              "Work_accident            14999\n",
              "left                     14999\n",
              "promotion_last_5years    14999\n",
              "Department               14999\n",
              "salary                   14999\n",
              "dtype: int64"
            ]
          },
          "metadata": {
            "tags": []
          },
          "execution_count": 12
        }
      ]
    },
    {
      "cell_type": "code",
      "metadata": {
        "colab": {
          "base_uri": "https://localhost:8080/"
        },
        "id": "lnX9CFKc7Mx9",
        "outputId": "98de7f9e-ee92-4d0b-eaba-f17b4bcf9ace"
      },
      "source": [
        "dataset['salary'].value_counts()"
      ],
      "execution_count": 16,
      "outputs": [
        {
          "output_type": "execute_result",
          "data": {
            "text/plain": [
              "low       7316\n",
              "medium    6446\n",
              "high      1237\n",
              "Name: salary, dtype: int64"
            ]
          },
          "metadata": {
            "tags": []
          },
          "execution_count": 16
        }
      ]
    },
    {
      "cell_type": "code",
      "metadata": {
        "colab": {
          "base_uri": "https://localhost:8080/"
        },
        "id": "2ub3p1PD8rDi",
        "outputId": "cbfc3222-f059-4d8d-9a36-f8ed08003276"
      },
      "source": [
        "dataset['satisfaction_level'].value_counts()"
      ],
      "execution_count": 17,
      "outputs": [
        {
          "output_type": "execute_result",
          "data": {
            "text/plain": [
              "0.10    358\n",
              "0.11    335\n",
              "0.74    257\n",
              "0.77    252\n",
              "0.84    247\n",
              "       ... \n",
              "0.25     34\n",
              "0.28     31\n",
              "0.27     30\n",
              "0.12     30\n",
              "0.26     30\n",
              "Name: satisfaction_level, Length: 92, dtype: int64"
            ]
          },
          "metadata": {
            "tags": []
          },
          "execution_count": 17
        }
      ]
    },
    {
      "cell_type": "code",
      "metadata": {
        "colab": {
          "base_uri": "https://localhost:8080/"
        },
        "id": "vfmacPhQ8yAt",
        "outputId": "cf099703-7f32-4635-ad9d-ca1227329f45"
      },
      "source": [
        "dataset['time_spend_company'].value_counts()"
      ],
      "execution_count": 18,
      "outputs": [
        {
          "output_type": "execute_result",
          "data": {
            "text/plain": [
              "3     6443\n",
              "2     3244\n",
              "4     2557\n",
              "5     1473\n",
              "6      718\n",
              "10     214\n",
              "7      188\n",
              "8      162\n",
              "Name: time_spend_company, dtype: int64"
            ]
          },
          "metadata": {
            "tags": []
          },
          "execution_count": 18
        }
      ]
    },
    {
      "cell_type": "code",
      "metadata": {
        "colab": {
          "base_uri": "https://localhost:8080/"
        },
        "id": "npLT_wA487gi",
        "outputId": "4b31e4f9-8664-4ed4-a0c2-19eb66237f56"
      },
      "source": [
        "dataset['promotion_last_5years'].value_counts()"
      ],
      "execution_count": 19,
      "outputs": [
        {
          "output_type": "execute_result",
          "data": {
            "text/plain": [
              "0    14680\n",
              "1      319\n",
              "Name: promotion_last_5years, dtype: int64"
            ]
          },
          "metadata": {
            "tags": []
          },
          "execution_count": 19
        }
      ]
    },
    {
      "cell_type": "code",
      "metadata": {
        "colab": {
          "base_uri": "https://localhost:8080/"
        },
        "id": "O5oATBMv9CGo",
        "outputId": "d0cf81d2-ad5c-4079-b1a7-5d0247011a3f"
      },
      "source": [
        "dataset.isnull().sum()"
      ],
      "execution_count": 21,
      "outputs": [
        {
          "output_type": "execute_result",
          "data": {
            "text/plain": [
              "satisfaction_level       0\n",
              "last_evaluation          0\n",
              "number_project           0\n",
              "average_montly_hours     0\n",
              "time_spend_company       0\n",
              "Work_accident            0\n",
              "left                     0\n",
              "promotion_last_5years    0\n",
              "Department               0\n",
              "salary                   0\n",
              "dtype: int64"
            ]
          },
          "metadata": {
            "tags": []
          },
          "execution_count": 21
        }
      ]
    },
    {
      "cell_type": "code",
      "metadata": {
        "colab": {
          "base_uri": "https://localhost:8080/"
        },
        "id": "gVIa9aOo9LIq",
        "outputId": "91fc5102-635f-408c-a95a-ee2aced5395b"
      },
      "source": [
        "dataset['left'].value_counts()"
      ],
      "execution_count": 22,
      "outputs": [
        {
          "output_type": "execute_result",
          "data": {
            "text/plain": [
              "0    11428\n",
              "1     3571\n",
              "Name: left, dtype: int64"
            ]
          },
          "metadata": {
            "tags": []
          },
          "execution_count": 22
        }
      ]
    },
    {
      "cell_type": "code",
      "metadata": {
        "colab": {
          "base_uri": "https://localhost:8080/"
        },
        "id": "_r7i8iK5-2tt",
        "outputId": "3d45dceb-96e7-4163-eb46-d64426b1fb34"
      },
      "source": [
        "print(X)"
      ],
      "execution_count": 26,
      "outputs": [
        {
          "output_type": "stream",
          "text": [
            "[[0.38 3 0 'low']\n",
            " [0.8 6 0 'medium']\n",
            " [0.11 4 0 'medium']\n",
            " ...\n",
            " [0.37 3 0 'low']\n",
            " [0.11 4 0 'low']\n",
            " [0.37 3 0 'low']]\n"
          ],
          "name": "stdout"
        }
      ]
    },
    {
      "cell_type": "code",
      "metadata": {
        "colab": {
          "base_uri": "https://localhost:8080/"
        },
        "id": "DyiB-lmi-5ae",
        "outputId": "54c59dc4-ba3b-4990-d5a3-8af097b5b6e4"
      },
      "source": [
        "print(Y)"
      ],
      "execution_count": 27,
      "outputs": [
        {
          "output_type": "stream",
          "text": [
            "[1 1 1 ... 1 1 1]\n"
          ],
          "name": "stdout"
        }
      ]
    },
    {
      "cell_type": "markdown",
      "metadata": {
        "id": "yk4-AfpL9Yo8"
      },
      "source": [
        "# Encoding Categorical Variables"
      ]
    },
    {
      "cell_type": "markdown",
      "metadata": {
        "id": "_tBf6d559kfY"
      },
      "source": [
        "### Encoding Independent Variable "
      ]
    },
    {
      "cell_type": "code",
      "metadata": {
        "id": "ll4gKUjM9rv8"
      },
      "source": [
        "#Salary Variable\n",
        "from sklearn.compose import ColumnTransformer\n",
        "from sklearn.preprocessing import OneHotEncoder\n",
        "ct = ColumnTransformer(transformers=[('encode',OneHotEncoder(),[3])],remainder='passthrough')\n",
        "X = np.array(ct.fit_transform(X))"
      ],
      "execution_count": 28,
      "outputs": []
    },
    {
      "cell_type": "code",
      "metadata": {
        "colab": {
          "base_uri": "https://localhost:8080/"
        },
        "id": "_XUdNvt3_AVe",
        "outputId": "2022a775-c5f2-4919-adea-6353e1de29c0"
      },
      "source": [
        "print(X)"
      ],
      "execution_count": 29,
      "outputs": [
        {
          "output_type": "stream",
          "text": [
            "[[0.0 1.0 0.0 0.38 3 0]\n",
            " [0.0 0.0 1.0 0.8 6 0]\n",
            " [0.0 0.0 1.0 0.11 4 0]\n",
            " ...\n",
            " [0.0 1.0 0.0 0.37 3 0]\n",
            " [0.0 1.0 0.0 0.11 4 0]\n",
            " [0.0 1.0 0.0 0.37 3 0]]\n"
          ],
          "name": "stdout"
        }
      ]
    },
    {
      "cell_type": "markdown",
      "metadata": {
        "id": "qyhb1PPh_rjY"
      },
      "source": [
        "# Train and Test split"
      ]
    },
    {
      "cell_type": "code",
      "metadata": {
        "id": "fapAVXS__vrJ"
      },
      "source": [
        "from sklearn.model_selection import train_test_split\n",
        "X_train,X_test,Y_train,Y_test = train_test_split(X,Y,test_size=0.2,random_state=0)"
      ],
      "execution_count": 30,
      "outputs": []
    },
    {
      "cell_type": "markdown",
      "metadata": {
        "id": "fz2m4uDF_Ht-"
      },
      "source": [
        "# Feature Scaling"
      ]
    },
    {
      "cell_type": "code",
      "metadata": {
        "id": "BYpwHQOq_RnM"
      },
      "source": [
        "from sklearn.preprocessing import StandardScaler\n",
        "sc = StandardScaler()\n",
        "X_train[:,4:5] = sc.fit_transform(X_train[:,4:5])\n",
        "X_test[:,4:5] = sc.transform(X_test[:,4:5])"
      ],
      "execution_count": 32,
      "outputs": []
    },
    {
      "cell_type": "code",
      "metadata": {
        "colab": {
          "base_uri": "https://localhost:8080/"
        },
        "id": "4De8p3-7Aotz",
        "outputId": "ae95e7fc-5e64-47d4-8d96-b783056e1428"
      },
      "source": [
        "print(X_train)"
      ],
      "execution_count": 33,
      "outputs": [
        {
          "output_type": "stream",
          "text": [
            "[[0.0 0.0 1.0 0.75 1.0333790581525808 0]\n",
            " [0.0 0.0 1.0 0.13 1.0333790581525808 0]\n",
            " [0.0 1.0 0.0 0.67 -0.3417474050583337 0]\n",
            " ...\n",
            " [0.0 0.0 1.0 0.69 -1.0293106366637907 0]\n",
            " [1.0 0.0 0.0 0.78 -0.3417474050583337 0]\n",
            " [0.0 1.0 0.0 0.56 -1.0293106366637907 0]]\n"
          ],
          "name": "stdout"
        }
      ]
    },
    {
      "cell_type": "markdown",
      "metadata": {
        "id": "4PkY483WAtq7"
      },
      "source": [
        "# Model 1 (Logistic Regression)"
      ]
    },
    {
      "cell_type": "code",
      "metadata": {
        "colab": {
          "base_uri": "https://localhost:8080/"
        },
        "id": "8qj1TdWYA_oV",
        "outputId": "22742813-fa56-4653-b362-cfe70473174f"
      },
      "source": [
        "from sklearn.linear_model import LogisticRegression\n",
        "classifier = LogisticRegression()\n",
        "classifier.fit(X_train,Y_train)"
      ],
      "execution_count": 35,
      "outputs": [
        {
          "output_type": "execute_result",
          "data": {
            "text/plain": [
              "LogisticRegression(C=1.0, class_weight=None, dual=False, fit_intercept=True,\n",
              "                   intercept_scaling=1, l1_ratio=None, max_iter=100,\n",
              "                   multi_class='auto', n_jobs=None, penalty='l2',\n",
              "                   random_state=None, solver='lbfgs', tol=0.0001, verbose=0,\n",
              "                   warm_start=False)"
            ]
          },
          "metadata": {
            "tags": []
          },
          "execution_count": 35
        }
      ]
    },
    {
      "cell_type": "code",
      "metadata": {
        "id": "pviLx_lbBiMZ"
      },
      "source": [
        "y_pred = classifier.predict(X_test)"
      ],
      "execution_count": 36,
      "outputs": []
    },
    {
      "cell_type": "code",
      "metadata": {
        "colab": {
          "base_uri": "https://localhost:8080/"
        },
        "id": "VKCsSG7QBSKI",
        "outputId": "f0106297-a0d7-450d-9f93-8dc882777348"
      },
      "source": [
        "from sklearn.metrics import accuracy_score,confusion_matrix\n",
        "cm = confusion_matrix(Y_test,y_pred)\n",
        "print(cm)\n",
        "accuracy_score(Y_test,y_pred)"
      ],
      "execution_count": 37,
      "outputs": [
        {
          "output_type": "stream",
          "text": [
            "[[2123  176]\n",
            " [ 518  183]]\n"
          ],
          "name": "stdout"
        },
        {
          "output_type": "execute_result",
          "data": {
            "text/plain": [
              "0.7686666666666667"
            ]
          },
          "metadata": {
            "tags": []
          },
          "execution_count": 37
        }
      ]
    },
    {
      "cell_type": "markdown",
      "metadata": {
        "id": "uXsWx2fNB6-J"
      },
      "source": [
        "# Model 2 (Support Vector Machine)"
      ]
    },
    {
      "cell_type": "code",
      "metadata": {
        "colab": {
          "base_uri": "https://localhost:8080/"
        },
        "id": "N2WLr42lCMCt",
        "outputId": "c74b66c8-00ec-4cd8-890c-ea6339ff7fdb"
      },
      "source": [
        "from sklearn.svm import SVC\n",
        "classifier1 = SVC(kernel='linear',random_state=0)\n",
        "classifier1.fit(X_train,Y_train)"
      ],
      "execution_count": 38,
      "outputs": [
        {
          "output_type": "execute_result",
          "data": {
            "text/plain": [
              "SVC(C=1.0, break_ties=False, cache_size=200, class_weight=None, coef0=0.0,\n",
              "    decision_function_shape='ovr', degree=3, gamma='scale', kernel='linear',\n",
              "    max_iter=-1, probability=False, random_state=0, shrinking=True, tol=0.001,\n",
              "    verbose=False)"
            ]
          },
          "metadata": {
            "tags": []
          },
          "execution_count": 38
        }
      ]
    },
    {
      "cell_type": "code",
      "metadata": {
        "id": "66KekfueCVtx"
      },
      "source": [
        "y_pred1=classifier1.predict(X_test)"
      ],
      "execution_count": 39,
      "outputs": []
    },
    {
      "cell_type": "code",
      "metadata": {
        "colab": {
          "base_uri": "https://localhost:8080/"
        },
        "id": "EFkwdC1IC9dp",
        "outputId": "26706b1c-2b38-449b-e313-335a77db6bbf"
      },
      "source": [
        "from sklearn.metrics import accuracy_score,confusion_matrix\n",
        "cm = confusion_matrix(Y_test,y_pred1)\n",
        "print(cm)\n",
        "accuracy_score(Y_test,y_pred1)"
      ],
      "execution_count": 41,
      "outputs": [
        {
          "output_type": "stream",
          "text": [
            "[[2299    0]\n",
            " [ 701    0]]\n"
          ],
          "name": "stdout"
        },
        {
          "output_type": "execute_result",
          "data": {
            "text/plain": [
              "0.7663333333333333"
            ]
          },
          "metadata": {
            "tags": []
          },
          "execution_count": 41
        }
      ]
    },
    {
      "cell_type": "markdown",
      "metadata": {
        "id": "mKagi-FPDH0o"
      },
      "source": [
        "# Model 3 (Kernel SVM)"
      ]
    },
    {
      "cell_type": "code",
      "metadata": {
        "colab": {
          "base_uri": "https://localhost:8080/"
        },
        "id": "wwC1HK3ZDMYD",
        "outputId": "518ddfe0-0fd8-4106-ff27-22ed48d686c2"
      },
      "source": [
        "from sklearn.svm import SVC\n",
        "classifier2 = SVC(kernel='rbf',random_state=0)\n",
        "classifier2.fit(X_train,Y_train)"
      ],
      "execution_count": 42,
      "outputs": [
        {
          "output_type": "execute_result",
          "data": {
            "text/plain": [
              "SVC(C=1.0, break_ties=False, cache_size=200, class_weight=None, coef0=0.0,\n",
              "    decision_function_shape='ovr', degree=3, gamma='scale', kernel='rbf',\n",
              "    max_iter=-1, probability=False, random_state=0, shrinking=True, tol=0.001,\n",
              "    verbose=False)"
            ]
          },
          "metadata": {
            "tags": []
          },
          "execution_count": 42
        }
      ]
    },
    {
      "cell_type": "code",
      "metadata": {
        "id": "1RflN3-dDiiw"
      },
      "source": [
        "y_pred2 = classifier2.predict(X_test)"
      ],
      "execution_count": 43,
      "outputs": []
    },
    {
      "cell_type": "code",
      "metadata": {
        "colab": {
          "base_uri": "https://localhost:8080/"
        },
        "id": "3f3YNKJdDpyd",
        "outputId": "3ad1115e-7c00-4328-a46a-5d871f15a0b9"
      },
      "source": [
        "from sklearn.metrics import accuracy_score,confusion_matrix\n",
        "cm = confusion_matrix(Y_test,y_pred2)\n",
        "print(cm)\n",
        "accuracy_score(Y_test,y_pred2)"
      ],
      "execution_count": 44,
      "outputs": [
        {
          "output_type": "stream",
          "text": [
            "[[2115  184]\n",
            " [  99  602]]\n"
          ],
          "name": "stdout"
        },
        {
          "output_type": "execute_result",
          "data": {
            "text/plain": [
              "0.9056666666666666"
            ]
          },
          "metadata": {
            "tags": []
          },
          "execution_count": 44
        }
      ]
    },
    {
      "cell_type": "markdown",
      "metadata": {
        "id": "vdQFq0nQDwVe"
      },
      "source": [
        "# Model 4 (K Nearest Neighbour)"
      ]
    },
    {
      "cell_type": "code",
      "metadata": {
        "colab": {
          "base_uri": "https://localhost:8080/"
        },
        "id": "sRS90hzjD1gp",
        "outputId": "e845012d-8508-447d-f5e2-799523b53de3"
      },
      "source": [
        "from sklearn.neighbors import KNeighborsClassifier\n",
        "classifier3 = KNeighborsClassifier(n_neighbors=5,metric='minkowski',p=2)\n",
        "classifier3.fit(X_train,Y_train)"
      ],
      "execution_count": 45,
      "outputs": [
        {
          "output_type": "execute_result",
          "data": {
            "text/plain": [
              "KNeighborsClassifier(algorithm='auto', leaf_size=30, metric='minkowski',\n",
              "                     metric_params=None, n_jobs=None, n_neighbors=5, p=2,\n",
              "                     weights='uniform')"
            ]
          },
          "metadata": {
            "tags": []
          },
          "execution_count": 45
        }
      ]
    },
    {
      "cell_type": "code",
      "metadata": {
        "id": "Gs-M1r5YEUpx"
      },
      "source": [
        "y_pred3 = classifier3.predict(X_test)"
      ],
      "execution_count": 46,
      "outputs": []
    },
    {
      "cell_type": "code",
      "metadata": {
        "colab": {
          "base_uri": "https://localhost:8080/"
        },
        "id": "drVotxppEbZo",
        "outputId": "12b4b19b-16f2-49cb-a792-05e85a5d85c4"
      },
      "source": [
        "from sklearn.metrics import accuracy_score,confusion_matrix\n",
        "cm = confusion_matrix(Y_test,y_pred3)\n",
        "print(cm)\n",
        "accuracy_score(Y_test,y_pred3)"
      ],
      "execution_count": 47,
      "outputs": [
        {
          "output_type": "stream",
          "text": [
            "[[2229   70]\n",
            " [  74  627]]\n"
          ],
          "name": "stdout"
        },
        {
          "output_type": "execute_result",
          "data": {
            "text/plain": [
              "0.952"
            ]
          },
          "metadata": {
            "tags": []
          },
          "execution_count": 47
        }
      ]
    },
    {
      "cell_type": "markdown",
      "metadata": {
        "id": "g7Qb2UB_ElQa"
      },
      "source": [
        "# Method 5 (Naive Bayes)"
      ]
    },
    {
      "cell_type": "code",
      "metadata": {
        "colab": {
          "base_uri": "https://localhost:8080/"
        },
        "id": "Y_Kof4sXEvMX",
        "outputId": "2ed90591-0a31-47a1-a8d1-6fc4eca94600"
      },
      "source": [
        "from sklearn.naive_bayes import GaussianNB\n",
        "classifier4 = GaussianNB()\n",
        "classifier4.fit(X_train,Y_train)"
      ],
      "execution_count": 49,
      "outputs": [
        {
          "output_type": "execute_result",
          "data": {
            "text/plain": [
              "GaussianNB(priors=None, var_smoothing=1e-09)"
            ]
          },
          "metadata": {
            "tags": []
          },
          "execution_count": 49
        }
      ]
    },
    {
      "cell_type": "code",
      "metadata": {
        "id": "0SKCj11-FbO1"
      },
      "source": [
        "y_pred4 = classifier4.predict(X_test)"
      ],
      "execution_count": 50,
      "outputs": []
    },
    {
      "cell_type": "code",
      "metadata": {
        "colab": {
          "base_uri": "https://localhost:8080/"
        },
        "id": "fLx64HuOFhRi",
        "outputId": "4d4f5a37-58bc-481e-feb5-d7b44d63fcb1"
      },
      "source": [
        "from sklearn.metrics import accuracy_score,confusion_matrix\n",
        "cm = confusion_matrix(Y_test,y_pred4)\n",
        "print(cm)\n",
        "accuracy_score(Y_test,y_pred4)"
      ],
      "execution_count": 51,
      "outputs": [
        {
          "output_type": "stream",
          "text": [
            "[[1618  681]\n",
            " [ 120  581]]\n"
          ],
          "name": "stdout"
        },
        {
          "output_type": "execute_result",
          "data": {
            "text/plain": [
              "0.733"
            ]
          },
          "metadata": {
            "tags": []
          },
          "execution_count": 51
        }
      ]
    },
    {
      "cell_type": "markdown",
      "metadata": {
        "id": "8E0hSmrtFlEz"
      },
      "source": [
        "#  **Model 6 (Decision Tree Classifier)** "
      ]
    },
    {
      "cell_type": "code",
      "metadata": {
        "colab": {
          "base_uri": "https://localhost:8080/"
        },
        "id": "naTCRGchFrxI",
        "outputId": "9c13b1c5-b929-4c55-b367-b0e9dad89f6c"
      },
      "source": [
        "#Decision Tree Classifier is the winner with 95.86%\n",
        "from sklearn.tree import DecisionTreeClassifier\n",
        "classifier5 = DecisionTreeClassifier(criterion='entropy',random_state=0)\n",
        "classifier5.fit(X_train,Y_train)"
      ],
      "execution_count": 52,
      "outputs": [
        {
          "output_type": "execute_result",
          "data": {
            "text/plain": [
              "DecisionTreeClassifier(ccp_alpha=0.0, class_weight=None, criterion='entropy',\n",
              "                       max_depth=None, max_features=None, max_leaf_nodes=None,\n",
              "                       min_impurity_decrease=0.0, min_impurity_split=None,\n",
              "                       min_samples_leaf=1, min_samples_split=2,\n",
              "                       min_weight_fraction_leaf=0.0, presort='deprecated',\n",
              "                       random_state=0, splitter='best')"
            ]
          },
          "metadata": {
            "tags": []
          },
          "execution_count": 52
        }
      ]
    },
    {
      "cell_type": "code",
      "metadata": {
        "id": "Mk1FAKUuGA3k"
      },
      "source": [
        "y_pred5 = classifier5.predict(X_test)"
      ],
      "execution_count": 53,
      "outputs": []
    },
    {
      "cell_type": "code",
      "metadata": {
        "colab": {
          "base_uri": "https://localhost:8080/"
        },
        "id": "hGyHp2nFGGiQ",
        "outputId": "aaf0b7c2-3711-4af6-e4e3-bb807a0f61ed"
      },
      "source": [
        "from sklearn.metrics import accuracy_score,confusion_matrix\n",
        "cm = confusion_matrix(Y_test,y_pred5)\n",
        "print(cm)\n",
        "accuracy_score(Y_test,y_pred5)"
      ],
      "execution_count": 54,
      "outputs": [
        {
          "output_type": "stream",
          "text": [
            "[[2235   64]\n",
            " [  60  641]]\n"
          ],
          "name": "stdout"
        },
        {
          "output_type": "execute_result",
          "data": {
            "text/plain": [
              "0.9586666666666667"
            ]
          },
          "metadata": {
            "tags": []
          },
          "execution_count": 54
        }
      ]
    },
    {
      "cell_type": "markdown",
      "metadata": {
        "id": "oNPKv_Q_GMAI"
      },
      "source": [
        "# Model 7 (Random Forest Classifier)"
      ]
    },
    {
      "cell_type": "code",
      "metadata": {
        "colab": {
          "base_uri": "https://localhost:8080/"
        },
        "id": "k3AUHQ84GRNS",
        "outputId": "31f7c24f-fbc5-4c3a-b719-783e4133e860"
      },
      "source": [
        "from sklearn.ensemble import RandomForestClassifier\n",
        "classifier6 = RandomForestClassifier(n_estimators=10,criterion='entropy',random_state=0)\n",
        "classifier6.fit(X_train,Y_train)"
      ],
      "execution_count": 55,
      "outputs": [
        {
          "output_type": "execute_result",
          "data": {
            "text/plain": [
              "RandomForestClassifier(bootstrap=True, ccp_alpha=0.0, class_weight=None,\n",
              "                       criterion='entropy', max_depth=None, max_features='auto',\n",
              "                       max_leaf_nodes=None, max_samples=None,\n",
              "                       min_impurity_decrease=0.0, min_impurity_split=None,\n",
              "                       min_samples_leaf=1, min_samples_split=2,\n",
              "                       min_weight_fraction_leaf=0.0, n_estimators=10,\n",
              "                       n_jobs=None, oob_score=False, random_state=0, verbose=0,\n",
              "                       warm_start=False)"
            ]
          },
          "metadata": {
            "tags": []
          },
          "execution_count": 55
        }
      ]
    },
    {
      "cell_type": "code",
      "metadata": {
        "id": "T2FajsUuGsJ_"
      },
      "source": [
        "y_pred6 = classifier6.predict(X_test)"
      ],
      "execution_count": 56,
      "outputs": []
    },
    {
      "cell_type": "code",
      "metadata": {
        "colab": {
          "base_uri": "https://localhost:8080/"
        },
        "id": "8ShTEkFeGxDE",
        "outputId": "bdec5cf0-2e1e-4188-ca79-193a36b178ad"
      },
      "source": [
        "from sklearn.metrics import accuracy_score,confusion_matrix\n",
        "cm = confusion_matrix(Y_test,y_pred6)\n",
        "print(cm)\n",
        "accuracy_score(Y_test,y_pred6)"
      ],
      "execution_count": 57,
      "outputs": [
        {
          "output_type": "stream",
          "text": [
            "[[2229   70]\n",
            " [  55  646]]\n"
          ],
          "name": "stdout"
        },
        {
          "output_type": "execute_result",
          "data": {
            "text/plain": [
              "0.9583333333333334"
            ]
          },
          "metadata": {
            "tags": []
          },
          "execution_count": 57
        }
      ]
    }
  ]
}